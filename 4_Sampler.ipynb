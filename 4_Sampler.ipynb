{
 "cells": [
  {
   "cell_type": "code",
   "execution_count": 1,
   "metadata": {},
   "outputs": [],
   "source": [
    "import torch\n",
    "import time\n",
    "import pandas as pd\n",
    "from torch.utils import data\n",
    "import numpy as np\n",
    "import matplotlib.pyplot as plt"
   ]
  },
  {
   "cell_type": "code",
   "execution_count": 2,
   "metadata": {},
   "outputs": [],
   "source": [
    "class NumDataset(data.Dataset):\n",
    "    def __init__(self,fname,number_length):\n",
    "        super().__init__()\n",
    "        self.df=pd.read_csv(fname).head(number_length)\n",
    "        self.number_length=number_length\n",
    "        \n",
    "        self.data=self.df.data.values\n",
    "        self.label=self.df.label.values\n",
    "    def __len__(self):\n",
    "        return self.number_length\n",
    "    def __getitem__(self, idx):\n",
    "        data=self.data[idx]\n",
    "        label=self.label[idx]\n",
    "        return data,label"
   ]
  },
  {
   "cell_type": "code",
   "execution_count": 3,
   "metadata": {},
   "outputs": [],
   "source": [
    "dataset=NumDataset(\"data.csv\",5)"
   ]
  },
  {
   "cell_type": "markdown",
   "metadata": {},
   "source": [
    "## SequentialSampler"
   ]
  },
  {
   "cell_type": "code",
   "execution_count": 4,
   "metadata": {},
   "outputs": [],
   "source": [
    "'''照順序sample dataset'''\n",
    "seq_sampler=data.SequentialSampler(dataset)"
   ]
  },
  {
   "cell_type": "code",
   "execution_count": 5,
   "metadata": {},
   "outputs": [
    {
     "name": "stdout",
     "output_type": "stream",
     "text": [
      "0\n",
      "1\n",
      "2\n",
      "3\n",
      "4\n"
     ]
    }
   ],
   "source": [
    "for idx in seq_sampler:\n",
    "    print(idx)"
   ]
  },
  {
   "cell_type": "code",
   "execution_count": 6,
   "metadata": {},
   "outputs": [],
   "source": [
    "'''Sampler是用在DataLoader上的'''\n",
    "dataloader=data.DataLoader(dataset,sampler=seq_sampler)"
   ]
  },
  {
   "cell_type": "code",
   "execution_count": 7,
   "metadata": {},
   "outputs": [
    {
     "name": "stdout",
     "output_type": "stream",
     "text": [
      "tensor([0.3315], dtype=torch.float64)|tensor([0])\n",
      "tensor([0.2033], dtype=torch.float64)|tensor([1])\n",
      "tensor([-1.5153], dtype=torch.float64)|tensor([2])\n",
      "tensor([-0.9327], dtype=torch.float64)|tensor([3])\n",
      "tensor([-0.7553], dtype=torch.float64)|tensor([4])\n"
     ]
    }
   ],
   "source": [
    "for d,l in dataloader:\n",
    "    print(f\"{d}|{l}\")"
   ]
  },
  {
   "cell_type": "markdown",
   "metadata": {},
   "source": [
    "## RandomSampler"
   ]
  },
  {
   "cell_type": "code",
   "execution_count": 8,
   "metadata": {},
   "outputs": [],
   "source": [
    "'''亂序sample dataset'''\n",
    "rnd_sampler=data.RandomSampler(dataset)\n",
    "dataloader=data.DataLoader(dataset,sampler=rnd_sampler)"
   ]
  },
  {
   "cell_type": "code",
   "execution_count": 9,
   "metadata": {},
   "outputs": [
    {
     "name": "stdout",
     "output_type": "stream",
     "text": [
      "3\n",
      "2\n",
      "1\n",
      "0\n",
      "4\n"
     ]
    }
   ],
   "source": [
    "for idx in rnd_sampler:\n",
    "    print(idx)"
   ]
  },
  {
   "cell_type": "code",
   "execution_count": 11,
   "metadata": {},
   "outputs": [
    {
     "name": "stdout",
     "output_type": "stream",
     "text": [
      "tensor([-1.5153], dtype=torch.float64)|tensor([2])\n",
      "tensor([0.3315], dtype=torch.float64)|tensor([0])\n",
      "tensor([0.2033], dtype=torch.float64)|tensor([1])\n",
      "tensor([-0.9327], dtype=torch.float64)|tensor([3])\n",
      "tensor([-0.7553], dtype=torch.float64)|tensor([4])\n"
     ]
    }
   ],
   "source": [
    "'''用在dataloader上就可做指定的亂序loading'''\n",
    "'''這邊用的是random permutation作亂序'''\n",
    "for d,l in dataloader:\n",
    "    print(f\"{d}|{l}\")"
   ]
  },
  {
   "cell_type": "code",
   "execution_count": 12,
   "metadata": {},
   "outputs": [],
   "source": [
    "'''使用replacement=true就可以在一個epoch中重複抽選一樣的東西'''\n",
    "'''這邊用的是random choice'''\n",
    "rnd_sampler=data.RandomSampler(dataset,replacement=True)\n",
    "dataloader=data.DataLoader(dataset,sampler=rnd_sampler)"
   ]
  },
  {
   "cell_type": "code",
   "execution_count": 14,
   "metadata": {},
   "outputs": [
    {
     "name": "stdout",
     "output_type": "stream",
     "text": [
      "tensor([-1.5153], dtype=torch.float64)|tensor([2])\n",
      "tensor([0.2033], dtype=torch.float64)|tensor([1])\n",
      "tensor([-1.5153], dtype=torch.float64)|tensor([2])\n",
      "tensor([0.3315], dtype=torch.float64)|tensor([0])\n",
      "tensor([-0.9327], dtype=torch.float64)|tensor([3])\n"
     ]
    }
   ],
   "source": [
    "for d,l in dataloader:\n",
    "    print(f\"{d}|{l}\")"
   ]
  },
  {
   "cell_type": "code",
   "execution_count": 18,
   "metadata": {},
   "outputs": [],
   "source": [
    "'''使用num_samples指定一個epochsample數，一定要開replacement，可以超過dataset總量'''\n",
    "rnd_sampler=data.RandomSampler(dataset,replacement=True,num_samples=3)\n",
    "dataloader=data.DataLoader(dataset,sampler=rnd_sampler)"
   ]
  },
  {
   "cell_type": "code",
   "execution_count": 19,
   "metadata": {},
   "outputs": [
    {
     "name": "stdout",
     "output_type": "stream",
     "text": [
      "tensor([-0.7553], dtype=torch.float64)|tensor([4])\n",
      "tensor([-1.5153], dtype=torch.float64)|tensor([2])\n",
      "tensor([-0.7553], dtype=torch.float64)|tensor([4])\n"
     ]
    }
   ],
   "source": [
    "for d,l in dataloader:\n",
    "    print(f\"{d}|{l}\")"
   ]
  },
  {
   "cell_type": "markdown",
   "metadata": {},
   "source": [
    "## Generator"
   ]
  },
  {
   "cell_type": "code",
   "execution_count": 20,
   "metadata": {},
   "outputs": [],
   "source": [
    "'''亂數產生器，可以設seed'''\n",
    "rnd_gen = torch.Generator()\n",
    "'''用在Sampler上'''\n",
    "rnd_sampler=data.RandomSampler(dataset,generator=rnd_gen)\n",
    "dataloader=data.DataLoader(dataset,sampler=rnd_sampler)"
   ]
  },
  {
   "cell_type": "code",
   "execution_count": 25,
   "metadata": {},
   "outputs": [
    {
     "name": "stdout",
     "output_type": "stream",
     "text": [
      "tensor([-0.9327], dtype=torch.float64)|tensor([3])\n",
      "tensor([0.2033], dtype=torch.float64)|tensor([1])\n",
      "tensor([-1.5153], dtype=torch.float64)|tensor([2])\n",
      "tensor([-0.7553], dtype=torch.float64)|tensor([4])\n",
      "tensor([0.3315], dtype=torch.float64)|tensor([0])\n"
     ]
    }
   ],
   "source": [
    "'''每次可以得到一樣的結果'''\n",
    "rnd_gen.manual_seed(2012)\n",
    "for d,l in dataloader:\n",
    "    print(f\"{d}|{l}\")"
   ]
  },
  {
   "cell_type": "markdown",
   "metadata": {},
   "source": [
    "## Seed Alignment"
   ]
  },
  {
   "cell_type": "code",
   "execution_count": 26,
   "metadata": {},
   "outputs": [
    {
     "name": "stdout",
     "output_type": "stream",
     "text": [
      "(1, 2)\n",
      "(4, 0)\n",
      "(3, 3)\n",
      "(0, 4)\n",
      "(2, 1)\n"
     ]
    }
   ],
   "source": [
    "'''使用同樣seed的Generator + Random sampler 可以拿來製作data, label pair, 或者其他需要align的dataset'''\n",
    "dataset1=np.random.permutation(5)\n",
    "dataset2=np.random.permutation(5)\n",
    "_=[print(x) for x in zip(dataset1,dataset2)]"
   ]
  },
  {
   "cell_type": "code",
   "execution_count": 27,
   "metadata": {},
   "outputs": [],
   "source": [
    "'''Generator跟sampler要對應，兩邊的seed要用一樣的'''\n",
    "rnd_gen1 = torch.Generator().manual_seed(2021)\n",
    "rnd_sampler1=data.RandomSampler(dataset1,generator=rnd_gen1)\n",
    "rnd_gen2 = torch.Generator().manual_seed(2021)\n",
    "rnd_sampler2=data.RandomSampler(dataset2,generator=rnd_gen2)"
   ]
  },
  {
   "cell_type": "code",
   "execution_count": 28,
   "metadata": {},
   "outputs": [],
   "source": [
    "'''塞進dataloader'''\n",
    "dataloader1=data.DataLoader(dataset1,sampler=rnd_sampler1)\n",
    "dataloader2=data.DataLoader(dataset2,sampler=rnd_sampler2)"
   ]
  },
  {
   "cell_type": "code",
   "execution_count": 29,
   "metadata": {},
   "outputs": [
    {
     "name": "stdout",
     "output_type": "stream",
     "text": [
      "tensor([2])<class 'torch.Tensor'>|tensor([1]) <class 'torch.Tensor'>\n",
      "tensor([3])<class 'torch.Tensor'>|tensor([3]) <class 'torch.Tensor'>\n",
      "tensor([1])<class 'torch.Tensor'>|tensor([2]) <class 'torch.Tensor'>\n",
      "tensor([0])<class 'torch.Tensor'>|tensor([4]) <class 'torch.Tensor'>\n",
      "tensor([4])<class 'torch.Tensor'>|tensor([0]) <class 'torch.Tensor'>\n"
     ]
    }
   ],
   "source": [
    "'''無論如何取樣，兩個loaderload出來資料都是相對應的'''\n",
    "for x1,x2 in zip(dataloader1,dataloader2):\n",
    "    print(f\"{x1}{type(x1)}|{x2} {type(x2)}\")"
   ]
  },
  {
   "cell_type": "markdown",
   "metadata": {},
   "source": [
    "## Weighted Sampler"
   ]
  },
  {
   "cell_type": "code",
   "execution_count": 33,
   "metadata": {},
   "outputs": [],
   "source": [
    "'''給予dataset一些權重 用在Sampler上'''\n",
    "w_rnd_sampler=data.WeightedRandomSampler(weights=[1,0,0,0,0],num_samples=3)\n",
    "dataloader=data.DataLoader(dataset,sampler=w_rnd_sampler)"
   ]
  },
  {
   "cell_type": "code",
   "execution_count": 34,
   "metadata": {},
   "outputs": [
    {
     "name": "stdout",
     "output_type": "stream",
     "text": [
      "tensor([0.3315], dtype=torch.float64)|tensor([0])\n",
      "tensor([0.3315], dtype=torch.float64)|tensor([0])\n",
      "tensor([0.3315], dtype=torch.float64)|tensor([0])\n"
     ]
    }
   ],
   "source": [
    "'''根據weight去做相應sample'''\n",
    "for d,l in dataloader:\n",
    "    print(f\"{d}|{l}\")"
   ]
  },
  {
   "cell_type": "code",
   "execution_count": 35,
   "metadata": {},
   "outputs": [
    {
     "name": "stdout",
     "output_type": "stream",
     "text": [
      "tensor([-0.7553], dtype=torch.float64)|tensor([4])\n",
      "tensor([0.3315], dtype=torch.float64)|tensor([0])\n",
      "tensor([-0.7553], dtype=torch.float64)|tensor([4])\n",
      "tensor([-0.7553], dtype=torch.float64)|tensor([4])\n",
      "tensor([-0.7553], dtype=torch.float64)|tensor([4])\n",
      "tensor([0.3315], dtype=torch.float64)|tensor([0])\n",
      "tensor([0.3315], dtype=torch.float64)|tensor([0])\n",
      "tensor([0.3315], dtype=torch.float64)|tensor([0])\n",
      "tensor([-0.7553], dtype=torch.float64)|tensor([4])\n",
      "tensor([0.3315], dtype=torch.float64)|tensor([0])\n"
     ]
    }
   ],
   "source": [
    "'''量可以靠num_samples操控'''\n",
    "w_rnd_sampler=data.WeightedRandomSampler(weights=[1,0,0,0,1],num_samples=10)\n",
    "dataloader=data.DataLoader(dataset,sampler=w_rnd_sampler)\n",
    "for d,l in dataloader:\n",
    "    print(f\"{d}|{l}\")"
   ]
  },
  {
   "cell_type": "code",
   "execution_count": 36,
   "metadata": {},
   "outputs": [
    {
     "name": "stdout",
     "output_type": "stream",
     "text": [
      "tensor([0.3315], dtype=torch.float64)|tensor([0])\n",
      "tensor([0.3315], dtype=torch.float64)|tensor([0])\n",
      "tensor([0.2033], dtype=torch.float64)|tensor([1])\n",
      "tensor([0.2033], dtype=torch.float64)|tensor([1])\n",
      "tensor([0.3315], dtype=torch.float64)|tensor([0])\n",
      "tensor([0.3315], dtype=torch.float64)|tensor([0])\n",
      "tensor([0.2033], dtype=torch.float64)|tensor([1])\n",
      "tensor([0.3315], dtype=torch.float64)|tensor([0])\n",
      "tensor([0.3315], dtype=torch.float64)|tensor([0])\n",
      "tensor([0.2033], dtype=torch.float64)|tensor([1])\n"
     ]
    }
   ],
   "source": [
    "'''Weight數量少於dataset總量也可以(不能多)'''\n",
    "w_rnd_sampler=data.WeightedRandomSampler(weights=[0.2,0.3],num_samples=10)\n",
    "dataloader=data.DataLoader(dataset,sampler=w_rnd_sampler)\n",
    "for d,l in dataloader:\n",
    "    print(f\"{d}|{l}\")"
   ]
  },
  {
   "cell_type": "code",
   "execution_count": 37,
   "metadata": {},
   "outputs": [],
   "source": [
    "'''可以做複雜的weighted sampling'''\n",
    "w_rnd_sampler=data.WeightedRandomSampler(weights=[5,4,3,2,1],num_samples=100000)\n",
    "dataloader=data.DataLoader(dataset,sampler=w_rnd_sampler)\n",
    "lst=[]\n",
    "for d,l in dataloader:\n",
    "    lst.append(l)"
   ]
  },
  {
   "cell_type": "code",
   "execution_count": 38,
   "metadata": {},
   "outputs": [
    {
     "data": {
      "image/png": "[encoded data removed]",
      "text/plain": [
       "<Figure size 432x288 with 1 Axes>"
      ]
     },
     "metadata": {
      "needs_background": "light"
     },
     "output_type": "display_data"
    }
   ],
   "source": [
    "a=plt.hist(lst)"
   ]
  },
  {
   "cell_type": "code",
   "execution_count": 39,
   "metadata": {},
   "outputs": [
    {
     "data": {
      "text/plain": [
       "array([5.12331288, 0.        , 4.10352761, 0.        , 0.        ,\n",
       "       3.02484663, 0.        , 2.0857362 , 0.        , 1.        ])"
      ]
     },
     "execution_count": 39,
     "metadata": {},
     "output_type": "execute_result"
    }
   ],
   "source": [
    "a[0]/a[0][-1]"
   ]
  },
  {
   "cell_type": "code",
   "execution_count": null,
   "metadata": {},
   "outputs": [],
   "source": []
  }
 ],
 "metadata": {
  "kernelspec": {
   "display_name": "Python 3 (ipykernel)",
   "language": "python",
   "name": "python3"
  },
  "language_info": {
   "codemirror_mode": {
    "name": "ipython",
    "version": 3
   },
   "file_extension": ".py",
   "mimetype": "text/x-python",
   "name": "python",
   "nbconvert_exporter": "python",
   "pygments_lexer": "ipython3",
   "version": "3.7.10"
  }
 },
 "nbformat": 4,
 "nbformat_minor": 4
}
