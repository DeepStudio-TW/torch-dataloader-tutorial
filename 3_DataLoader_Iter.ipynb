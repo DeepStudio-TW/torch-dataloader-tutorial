{
 "cells": [
  {
   "cell_type": "code",
   "execution_count": 1,
   "metadata": {},
   "outputs": [],
   "source": [
    "import time\n",
    "import pandas as pd\n",
    "import numpy as np\n",
    "import matplotlib.pyplot as plt\n",
    "\n",
    "import torch\n",
    "from torch.utils import data"
   ]
  },
  {
   "cell_type": "markdown",
   "metadata": {},
   "source": [
    "## Declair Dataset Class"
   ]
  },
  {
   "cell_type": "code",
   "execution_count": 21,
   "metadata": {},
   "outputs": [],
   "source": [
    "class NumIterDataset(data.IterableDataset):\n",
    "    '''Init: 使用變數宣告- data來源、總量、preprocess方法...等等'''\n",
    "    def __init__(self,fname,number_length):\n",
    "        super(NumIterDataset).__init__()\n",
    "        self.fname=fname\n",
    "        self.number_length=number_length\n",
    "    '''長度不宣告也沒差還是可以跑，有時候可以是無窮迴圈dataset'''\n",
    "#     def __len__(self):\n",
    "#         return self.number_length\n",
    "    def prep(self,line):\n",
    "        d,l=line.split(\",\")\n",
    "        return float(d),int(l)\n",
    "    '''定義iteration的方式，反正此dataset被call到之後開始跑iteration'''\n",
    "    def __iter__(self):\n",
    "        file_itr = open(self.fname)\n",
    "        _=next(file_itr)## 去除掉title\n",
    "        file_itr=map(self.prep,file_itr)\n",
    "        for idx,(d,l) in enumerate(file_itr):\n",
    "            if idx<self.number_length:\n",
    "                yield d,l\n",
    "            else:\n",
    "                break"
   ]
  },
  {
   "cell_type": "code",
   "execution_count": 22,
   "metadata": {},
   "outputs": [],
   "source": [
    "'''之後就可以用這個dataset class 來query'''\n",
    "dataset=NumIterDataset(\"data.csv\",6)"
   ]
  },
  {
   "cell_type": "markdown",
   "metadata": {},
   "source": [
    "## Declair Dataloader Class"
   ]
  },
  {
   "cell_type": "code",
   "execution_count": 23,
   "metadata": {},
   "outputs": [
    {
     "name": "stdout",
     "output_type": "stream",
     "text": [
      "tensor([0.3315], dtype=torch.float64)<class 'torch.Tensor'>|tensor([0]) <class 'torch.Tensor'>\n",
      "tensor([0.2033], dtype=torch.float64)<class 'torch.Tensor'>|tensor([1]) <class 'torch.Tensor'>\n",
      "tensor([-1.5153], dtype=torch.float64)<class 'torch.Tensor'>|tensor([2]) <class 'torch.Tensor'>\n",
      "tensor([-0.9327], dtype=torch.float64)<class 'torch.Tensor'>|tensor([3]) <class 'torch.Tensor'>\n",
      "tensor([-0.7553], dtype=torch.float64)<class 'torch.Tensor'>|tensor([4]) <class 'torch.Tensor'>\n",
      "tensor([-0.1205], dtype=torch.float64)<class 'torch.Tensor'>|tensor([5]) <class 'torch.Tensor'>\n"
     ]
    }
   ],
   "source": [
    "'''Data Loader這個class 可以把data load成torch tensor, 預設沒有shuffle,且batch size為1'''\n",
    "loader=data.DataLoader(dataset)\n",
    "'''可iterate，每次會依序call 包含dataset的 __getitem__'''\n",
    "for d,l in loader:\n",
    "    print(f\"{d}{type(d)}|{l} {type(l)}\")"
   ]
  },
  {
   "cell_type": "markdown",
   "metadata": {},
   "source": [
    "## Batch"
   ]
  },
  {
   "cell_type": "code",
   "execution_count": 24,
   "metadata": {},
   "outputs": [
    {
     "name": "stdout",
     "output_type": "stream",
     "text": [
      "tensor([0.3315, 0.2033], dtype=torch.float64)<class 'torch.Tensor'>|tensor([0, 1]) <class 'torch.Tensor'>\n",
      "tensor([-1.5153, -0.9327], dtype=torch.float64)<class 'torch.Tensor'>|tensor([2, 3]) <class 'torch.Tensor'>\n",
      "tensor([-0.7553, -0.1205], dtype=torch.float64)<class 'torch.Tensor'>|tensor([4, 5]) <class 'torch.Tensor'>\n"
     ]
    }
   ],
   "source": [
    "'''Data Loader這個class 可以把data load成torch tensor, 預設沒有shuffle,且batch size為1'''\n",
    "loader=data.DataLoader(dataset,batch_size=2)\n",
    "'''可設batch參數，一次讀多一點'''\n",
    "for d,l in loader:\n",
    "    print(f\"{d}{type(d)}|{l} {type(l)}\")"
   ]
  },
  {
   "cell_type": "code",
   "execution_count": 25,
   "metadata": {},
   "outputs": [],
   "source": [
    "dataset_=NumIterDataset(\"data.csv\",5000)"
   ]
  },
  {
   "cell_type": "code",
   "execution_count": 26,
   "metadata": {},
   "outputs": [
    {
     "name": "stdout",
     "output_type": "stream",
     "text": [
      "time elapsed: 0.4229888916015625  s\n"
     ]
    }
   ],
   "source": [
    "loader=data.DataLoader(dataset_)\n",
    "onset=time.time()\n",
    "for d,l in loader:\n",
    "    d=d.cuda() # 把tensor丟進GPU\n",
    "    l=l.cuda()\n",
    "    pass\n",
    "print(\"time elapsed:\",time.time()-onset,\" s\")"
   ]
  },
  {
   "cell_type": "code",
   "execution_count": 27,
   "metadata": {},
   "outputs": [
    {
     "name": "stdout",
     "output_type": "stream",
     "text": [
      "time elapsed: 0.1108245849609375  s\n"
     ]
    }
   ],
   "source": [
    "'''若開batch，讀取速度本身會加快一點'''\n",
    "loader=data.DataLoader(dataset_,batch_size=4)\n",
    "onset=time.time()\n",
    "for d,l in loader:\n",
    "    d=d.cuda()\n",
    "    l=l.cuda()\n",
    "    pass\n",
    "print(\"time elapsed:\",time.time()-onset,\" s\")"
   ]
  },
  {
   "cell_type": "code",
   "execution_count": 28,
   "metadata": {},
   "outputs": [
    {
     "name": "stdout",
     "output_type": "stream",
     "text": [
      "time elapsed: 0.02150726318359375  s\n"
     ]
    }
   ],
   "source": [
    "'''加大batch size會更快'''\n",
    "loader=data.DataLoader(dataset_,batch_size=50)\n",
    "onset=time.time()\n",
    "for d,l in loader:\n",
    "    d=d.cuda()\n",
    "    l=l.cuda()\n",
    "    pass\n",
    "print(\"time elapsed:\",time.time()-onset,\" s\")"
   ]
  },
  {
   "cell_type": "code",
   "execution_count": 29,
   "metadata": {},
   "outputs": [
    {
     "name": "stdout",
     "output_type": "stream",
     "text": [
      "time elapsed: 0.0175473690032959  s\n"
     ]
    }
   ],
   "source": [
    "'''但加大batch size到一定程度，邊際效應遞減'''\n",
    "loader=data.DataLoader(dataset_,batch_size=100)\n",
    "onset=time.time()\n",
    "for d,l in loader:\n",
    "    d=d.cuda()\n",
    "    l=l.cuda()\n",
    "    pass\n",
    "print(\"time elapsed:\",time.time()-onset,\" s\")"
   ]
  },
  {
   "cell_type": "code",
   "execution_count": 30,
   "metadata": {},
   "outputs": [
    {
     "name": "stdout",
     "output_type": "stream",
     "text": [
      "tensor([ 0.3315,  0.2033, -1.5153, -0.9327, -0.7553], dtype=torch.float64)<class 'torch.Tensor'>|tensor([0, 1, 2, 3, 4]) <class 'torch.Tensor'>\n"
     ]
    }
   ],
   "source": [
    "'''Drop last可以把不滿batch_size的丟掉'''\n",
    "loader=data.DataLoader(dataset,batch_size=5,drop_last=True)\n",
    "for d,l in loader:\n",
    "    print(f\"{d}{type(d)}|{l} {type(l)}\")"
   ]
  },
  {
   "cell_type": "markdown",
   "metadata": {},
   "source": [
    "## Workers"
   ]
  },
  {
   "cell_type": "code",
   "execution_count": 31,
   "metadata": {},
   "outputs": [
    {
     "name": "stdout",
     "output_type": "stream",
     "text": [
      "time elapsed: 1.494849681854248  s\n"
     ]
    }
   ],
   "source": [
    "'''Workers number決定多線程執行的程度，預設是0就是沒有分，1以上會去多開執行緒'''\n",
    "'''在commanand line上打\"ps\"可以觀察到多開執行緒這件事，開執行緒本身很慢，所以在執行loading很大時才看得出效果'''\n",
    "dataset__=NumIterDataset(\"data.csv\",500000)\n",
    "loader=data.DataLoader(dataset__,batch_size=5000)\n",
    "onset=time.time()\n",
    "for d,l in loader:\n",
    "    d=d.cuda()\n",
    "    l=l.cuda()\n",
    "    pass\n",
    "print(\"time elapsed:\",time.time()-onset,\" s\")\n"
   ]
  },
  {
   "cell_type": "code",
   "execution_count": 32,
   "metadata": {},
   "outputs": [
    {
     "name": "stdout",
     "output_type": "stream",
     "text": [
      "time elapsed: 1.6852996349334717  s\n"
     ]
    }
   ],
   "source": [
    "loader=data.DataLoader(dataset__,num_workers=1,batch_size=5000)\n",
    "onset=time.time()\n",
    "for d,l in loader:\n",
    "    d=d.cuda()\n",
    "    l=l.cuda()\n",
    "    pass\n",
    "print(\"time elapsed:\",time.time()-onset,\" s\")"
   ]
  },
  {
   "cell_type": "code",
   "execution_count": 33,
   "metadata": {},
   "outputs": [
    {
     "name": "stdout",
     "output_type": "stream",
     "text": [
      "time elapsed: 2.012490749359131  s\n"
     ]
    }
   ],
   "source": [
    "loader=data.DataLoader(dataset__,num_workers=4,batch_size=5000)\n",
    "onset=time.time()\n",
    "for d,l in loader:\n",
    "    d=d.cuda()\n",
    "    l=l.cuda()\n",
    "    pass\n",
    "print(\"time elapsed:\",time.time()-onset,\" s\")"
   ]
  },
  {
   "cell_type": "markdown",
   "metadata": {},
   "source": [
    "**Batch size調小**"
   ]
  },
  {
   "cell_type": "code",
   "execution_count": 34,
   "metadata": {},
   "outputs": [
    {
     "name": "stdout",
     "output_type": "stream",
     "text": [
      "time elapsed: 5.1720592975616455  s\n"
     ]
    }
   ],
   "source": [
    "'''在資料loading很快時(batch size很小，或是資料大小很小時)，開執行緒只是阻礙'''\n",
    "loader=data.DataLoader(dataset__,batch_size=10)\n",
    "onset=time.time()\n",
    "for d,l in loader:\n",
    "    d=d.cuda()\n",
    "    l=l.cuda()\n",
    "    pass\n",
    "print(\"time elapsed:\",time.time()-onset,\" s\")"
   ]
  },
  {
   "cell_type": "code",
   "execution_count": 35,
   "metadata": {},
   "outputs": [
    {
     "name": "stdout",
     "output_type": "stream",
     "text": [
      "time elapsed: 50.30317497253418  s\n"
     ]
    }
   ],
   "source": [
    "loader=data.DataLoader(dataset__,num_workers=1,batch_size=10)\n",
    "onset=time.time()\n",
    "for d,l in loader:\n",
    "    d=d.cuda()\n",
    "    l=l.cuda()\n",
    "    pass\n",
    "print(\"time elapsed:\",time.time()-onset,\" s\")"
   ]
  },
  {
   "cell_type": "code",
   "execution_count": 36,
   "metadata": {},
   "outputs": [
    {
     "name": "stdout",
     "output_type": "stream",
     "text": [
      "time elapsed: 163.80168223381042  s\n"
     ]
    }
   ],
   "source": [
    "loader=data.DataLoader(dataset__,num_workers=4,batch_size=10)\n",
    "onset=time.time()\n",
    "for d,l in loader:\n",
    "    d=d.cuda()\n",
    "    l=l.cuda()\n",
    "    pass\n",
    "print(\"time elapsed:\",time.time()-onset,\" s\")"
   ]
  },
  {
   "cell_type": "markdown",
   "metadata": {},
   "source": [
    "**Persistancce workers**"
   ]
  },
  {
   "cell_type": "code",
   "execution_count": 37,
   "metadata": {},
   "outputs": [
    {
     "name": "stdout",
     "output_type": "stream",
     "text": [
      "time elapsed: 1.973170280456543  s\n"
     ]
    }
   ],
   "source": [
    "'''剛剛不是說開workers也是要時間嗎?'''\n",
    "'''使用persistant worker可以再第二次使用時加快速度'''\n",
    "loader=data.DataLoader(dataset__,num_workers=4,batch_size=5000,persistent_workers=True)\n",
    "onset=time.time()\n",
    "for d,l in loader:\n",
    "    d=d.cuda()\n",
    "    l=l.cuda()\n",
    "    pass\n",
    "print(\"time elapsed:\",time.time()-onset,\" s\")"
   ]
  },
  {
   "cell_type": "code",
   "execution_count": 38,
   "metadata": {},
   "outputs": [
    {
     "name": "stdout",
     "output_type": "stream",
     "text": [
      "time elapsed: 1.9422776699066162  s\n"
     ]
    }
   ],
   "source": [
    "onset=time.time()\n",
    "for d,l in loader:\n",
    "    d=d.cuda()\n",
    "    l=l.cuda()\n",
    "    pass\n",
    "print(\"time elapsed:\",time.time()-onset,\" s\")"
   ]
  },
  {
   "cell_type": "code",
   "execution_count": 39,
   "metadata": {},
   "outputs": [
    {
     "name": "stdout",
     "output_type": "stream",
     "text": [
      "time elapsed: 1.8052937984466553  s\n"
     ]
    }
   ],
   "source": [
    "'''第二次使用不見得要全部跑完才算，可以load一組就好'''\n",
    "loader=data.DataLoader(dataset__,num_workers=4,batch_size=5000,persistent_workers=True)\n",
    "for d,l in loader:\n",
    "    break\n",
    "onset=time.time()\n",
    "for d,l in loader:\n",
    "    d=d.cuda()\n",
    "    l=l.cuda()\n",
    "    pass\n",
    "print(\"time elapsed:\",time.time()-onset,\" s\")"
   ]
  },
  {
   "cell_type": "markdown",
   "metadata": {},
   "source": [
    "## Prefetch"
   ]
  },
  {
   "cell_type": "code",
   "execution_count": 40,
   "metadata": {},
   "outputs": [
    {
     "name": "stdout",
     "output_type": "stream",
     "text": [
      "time elapsed: 1.8698930740356445  s\n"
     ]
    }
   ],
   "source": [
    "'''預讀取資料，在一筆做完前就開始讀下一筆，設定連續讀數筆batch之後再慢慢一筆筆assign給output，預設預讀2筆'''\n",
    "'''num_workers一定要大於1'''\n",
    "\n",
    "'''在資料少的情況下prefetch也可能成為阻礙速度的原因'''\n",
    "loader=data.DataLoader(dataset__,prefetch_factor=1,num_workers=4,batch_size=5000)\n",
    "onset=time.time()\n",
    "for d,l in loader:\n",
    "    d=d.cuda()\n",
    "    l=l.cuda()\n",
    "    pass\n",
    "print(\"time elapsed:\",time.time()-onset,\" s\")"
   ]
  },
  {
   "cell_type": "code",
   "execution_count": 41,
   "metadata": {},
   "outputs": [
    {
     "name": "stdout",
     "output_type": "stream",
     "text": [
      "time elapsed: 11.9212646484375  s\n"
     ]
    }
   ],
   "source": [
    "'''但要是 data很多的話這些prefetch就會有點用，資料不多的時候也可以把workers，prefetch關掉'''\n",
    "loader=data.DataLoader(dataset__+dataset__+dataset__+dataset__+dataset__+dataset__,prefetch_factor=2,num_workers=4,batch_size=5000,persistent_workers=True)\n",
    "for d,l in loader:\n",
    "    break\n",
    "onset=time.time()\n",
    "for d,l in loader:\n",
    "    d=d.cuda()\n",
    "    l=l.cuda()\n",
    "    pass\n",
    "print(\"time elapsed:\",time.time()-onset,\" s\")"
   ]
  },
  {
   "cell_type": "code",
   "execution_count": 42,
   "metadata": {},
   "outputs": [
    {
     "name": "stdout",
     "output_type": "stream",
     "text": [
      "time elapsed: 11.047260999679565  s\n"
     ]
    }
   ],
   "source": [
    "loader=data.DataLoader(dataset__+dataset__+dataset__+dataset__+dataset__+dataset__,prefetch_factor=4,num_workers=4,batch_size=5000,persistent_workers=True)\n",
    "for d,l in loader:\n",
    "    break\n",
    "onset=time.time()\n",
    "for d,l in loader:\n",
    "    d=d.cuda()\n",
    "    l=l.cuda()\n",
    "    pass\n",
    "print(\"time elapsed:\",time.time()-onset,\" s\")"
   ]
  },
  {
   "cell_type": "markdown",
   "metadata": {},
   "source": [
    "## Pin memory"
   ]
  },
  {
   "cell_type": "code",
   "execution_count": 43,
   "metadata": {},
   "outputs": [
    {
     "name": "stdout",
     "output_type": "stream",
     "text": [
      "time elapsed: 11.409748792648315  s\n"
     ]
    }
   ],
   "source": [
    "'''先把要丟到GPU的Tensor存到暫存空間，從CPU丟到GPU會變快'''\n",
    "loader=data.DataLoader(dataset__+dataset__+dataset__+dataset__+dataset__+dataset__,prefetch_factor=4,num_workers=4,batch_size=5000,pin_memory=True)\n",
    "onset=time.time()\n",
    "for d,l in loader:\n",
    "    d=d.cuda()\n",
    "    l=l.cuda()\n",
    "    pass\n",
    "print(\"time elapsed:\",time.time()-onset,\" s\")"
   ]
  },
  {
   "cell_type": "markdown",
   "metadata": {},
   "source": [
    "## Shuffle"
   ]
  },
  {
   "cell_type": "code",
   "execution_count": 44,
   "metadata": {},
   "outputs": [
    {
     "ename": "ValueError",
     "evalue": "DataLoader with IterableDataset: expected unspecified shuffle option, but got shuffle=True",
     "output_type": "error",
     "traceback": [
      "\u001b[0;31m---------------------------------------------------------------------------\u001b[0m",
      "\u001b[0;31mValueError\u001b[0m                                Traceback (most recent call last)",
      "\u001b[0;32m<ipython-input-44-869db5420179>\u001b[0m in \u001b[0;36m<module>\u001b[0;34m\u001b[0m\n\u001b[1;32m      1\u001b[0m \u001b[0;34m'''IterDatset不能開shuffle'''\u001b[0m\u001b[0;34m\u001b[0m\u001b[0;34m\u001b[0m\u001b[0m\n\u001b[0;32m----> 2\u001b[0;31m \u001b[0mloader\u001b[0m\u001b[0;34m=\u001b[0m\u001b[0mdata\u001b[0m\u001b[0;34m.\u001b[0m\u001b[0mDataLoader\u001b[0m\u001b[0;34m(\u001b[0m\u001b[0mdataset\u001b[0m\u001b[0;34m,\u001b[0m\u001b[0mshuffle\u001b[0m\u001b[0;34m=\u001b[0m\u001b[0;32mTrue\u001b[0m\u001b[0;34m)\u001b[0m\u001b[0;34m\u001b[0m\u001b[0;34m\u001b[0m\u001b[0m\n\u001b[0m\u001b[1;32m      3\u001b[0m \u001b[0;32mfor\u001b[0m \u001b[0md\u001b[0m\u001b[0;34m,\u001b[0m\u001b[0ml\u001b[0m \u001b[0;32min\u001b[0m \u001b[0mloader\u001b[0m\u001b[0;34m:\u001b[0m\u001b[0;34m\u001b[0m\u001b[0;34m\u001b[0m\u001b[0m\n\u001b[1;32m      4\u001b[0m     \u001b[0mprint\u001b[0m\u001b[0;34m(\u001b[0m\u001b[0;34mf\"{d}{type(d)}|{l} {type(l)}\"\u001b[0m\u001b[0;34m)\u001b[0m\u001b[0;34m\u001b[0m\u001b[0;34m\u001b[0m\u001b[0m\n",
      "\u001b[0;32m/opt/conda/lib/python3.7/site-packages/torch/utils/data/dataloader.py\u001b[0m in \u001b[0;36m__init__\u001b[0;34m(self, dataset, batch_size, shuffle, sampler, batch_sampler, num_workers, collate_fn, pin_memory, drop_last, timeout, worker_init_fn, multiprocessing_context, generator, prefetch_factor, persistent_workers)\u001b[0m\n\u001b[1;32m    220\u001b[0m                 raise ValueError(\n\u001b[1;32m    221\u001b[0m                     \u001b[0;34m\"DataLoader with IterableDataset: expected unspecified \"\u001b[0m\u001b[0;34m\u001b[0m\u001b[0;34m\u001b[0m\u001b[0m\n\u001b[0;32m--> 222\u001b[0;31m                     \"shuffle option, but got shuffle={}\".format(shuffle))\n\u001b[0m\u001b[1;32m    223\u001b[0m             \u001b[0;32melif\u001b[0m \u001b[0msampler\u001b[0m \u001b[0;32mis\u001b[0m \u001b[0;32mnot\u001b[0m \u001b[0;32mNone\u001b[0m\u001b[0;34m:\u001b[0m\u001b[0;34m\u001b[0m\u001b[0;34m\u001b[0m\u001b[0m\n\u001b[1;32m    224\u001b[0m                 \u001b[0;31m# See NOTE [ Custom Samplers and IterableDataset ]\u001b[0m\u001b[0;34m\u001b[0m\u001b[0;34m\u001b[0m\u001b[0;34m\u001b[0m\u001b[0m\n",
      "\u001b[0;31mValueError\u001b[0m: DataLoader with IterableDataset: expected unspecified shuffle option, but got shuffle=True"
     ]
    }
   ],
   "source": [
    "'''IterDatset不能開shuffle'''\n",
    "loader=data.DataLoader(dataset,shuffle=True)\n",
    "for d,l in loader:\n",
    "    print(f\"{d}{type(d)}|{l} {type(l)}\")"
   ]
  },
  {
   "cell_type": "markdown",
   "metadata": {},
   "source": [
    "**1.71版以前有個BufferShuffledDataset，可以使用一個buffer做pseudo shuffle**\n",
    "\n",
    "**現在沒有了只好自己寫**"
   ]
  },
  {
   "cell_type": "code",
   "execution_count": 92,
   "metadata": {},
   "outputs": [],
   "source": [
    "a=[1,2,3]\n",
    "random.shuffle(a)"
   ]
  },
  {
   "cell_type": "code",
   "execution_count": 93,
   "metadata": {},
   "outputs": [
    {
     "data": {
      "text/plain": [
       "[2, 1, 3]"
      ]
     },
     "execution_count": 93,
     "metadata": {},
     "output_type": "execute_result"
    }
   ],
   "source": [
    "a"
   ]
  },
  {
   "cell_type": "code",
   "execution_count": 94,
   "metadata": {},
   "outputs": [],
   "source": [
    "import random\n",
    "class ShuffleDataset(data.IterableDataset):\n",
    "    def __init__(self, dataset, buffer_size):\n",
    "        super().__init__()\n",
    "        self.dataset = dataset\n",
    "        self.buffer_size = buffer_size\n",
    "    def __iter__(self):\n",
    "        try:\n",
    "            dataset_iter = iter(self.dataset)\n",
    "            shufbuf=[next(dataset_iter) for i in range(self.buffer_size)]\n",
    "            random.shuffle(shufbuf)\n",
    "        except:\n",
    "            self.buffer_size = len(shufbuf)\n",
    "        try:\n",
    "            while True:\n",
    "                try:\n",
    "                    \n",
    "                    item = next(dataset_iter)\n",
    "                    yield shufbuf.pop()\n",
    "                    shufbuf.append(item)\n",
    "                    random.shuffle(shufbuf)\n",
    "                except StopIteration:\n",
    "                    break\n",
    "            while len(shufbuf) > 0:\n",
    "                yield shufbuf.pop()\n",
    "        except GeneratorExit:\n",
    "            pass\n"
   ]
  },
  {
   "cell_type": "code",
   "execution_count": 95,
   "metadata": {},
   "outputs": [
    {
     "name": "stdout",
     "output_type": "stream",
     "text": [
      "tensor([0.3315], dtype=torch.float64)<class 'torch.Tensor'>|tensor([0]) <class 'torch.Tensor'>\n",
      "tensor([-0.9327], dtype=torch.float64)<class 'torch.Tensor'>|tensor([3]) <class 'torch.Tensor'>\n",
      "tensor([-1.5153], dtype=torch.float64)<class 'torch.Tensor'>|tensor([2]) <class 'torch.Tensor'>\n",
      "tensor([0.2033], dtype=torch.float64)<class 'torch.Tensor'>|tensor([1]) <class 'torch.Tensor'>\n",
      "tensor([0.6372], dtype=torch.float64)<class 'torch.Tensor'>|tensor([6]) <class 'torch.Tensor'>\n",
      "tensor([-0.1205], dtype=torch.float64)<class 'torch.Tensor'>|tensor([5]) <class 'torch.Tensor'>\n",
      "tensor([-0.1704], dtype=torch.float64)<class 'torch.Tensor'>|tensor([7]) <class 'torch.Tensor'>\n",
      "tensor([1.0863], dtype=torch.float64)<class 'torch.Tensor'>|tensor([8]) <class 'torch.Tensor'>\n",
      "tensor([-1.5793], dtype=torch.float64)<class 'torch.Tensor'>|tensor([9]) <class 'torch.Tensor'>\n",
      "tensor([-0.7553], dtype=torch.float64)<class 'torch.Tensor'>|tensor([4]) <class 'torch.Tensor'>\n"
     ]
    }
   ],
   "source": [
    "shuffle_dataset=ShuffleDataset(dataset,buffer_size=3)\n",
    "loader=data.DataLoader(shuffle_dataset)\n",
    "for d,l in loader:\n",
    "    print(f\"{d}{type(d)}|{l} {type(l)}\")"
   ]
  },
  {
   "cell_type": "code",
   "execution_count": 98,
   "metadata": {},
   "outputs": [],
   "source": [
    "'''可是這個buffer如果小於前面的資料數，那亂的程度就會受到影響'''\n",
    "dataset=NumIterDataset(\"data.csv\",10)\n",
    "shuffle_dataset=ShuffleDataset(dataset,buffer_size=3)\n",
    "loader=data.DataLoader(shuffle_dataset,batch_size=10)"
   ]
  },
  {
   "cell_type": "code",
   "execution_count": 99,
   "metadata": {},
   "outputs": [],
   "source": [
    "l=[]\n",
    "for epoch in range(1000):\n",
    "    for d,i in loader:\n",
    "        l.append(i)    \n",
    "a=torch.stack(l,axis=-1)"
   ]
  },
  {
   "cell_type": "code",
   "execution_count": 100,
   "metadata": {},
   "outputs": [
    {
     "data": {
      "image/png": "[encoded data removed]",
      "text/plain": [
       "<Figure size 1080x360 with 10 Axes>"
      ]
     },
     "metadata": {
      "needs_background": "light"
     },
     "output_type": "display_data"
    }
   ],
   "source": [
    "'''統計一下會發現，batch第一次抽到的可能性只落在三種選擇內，第二次的是4種，依此類推，越後面的越容易在更後面抽到'''\n",
    "plt.figure(figsize=(15,5))\n",
    "for i,ii in enumerate(a.numpy()):\n",
    "    plt.subplot(2,5,i+1)\n",
    "    plt.hist(ii,alpha=0.5,label=[i])\n",
    "    plt.legend()"
   ]
  },
  {
   "cell_type": "code",
   "execution_count": 101,
   "metadata": {},
   "outputs": [],
   "source": [
    "'''如果buffer數到了一定數量就比較好用一點'''\n",
    "dataset=NumIterDataset(\"data.csv\",10)\n",
    "shuffle_dataset=ShuffleDataset(dataset,buffer_size=8)\n",
    "loader=data.DataLoader(shuffle_dataset,batch_size=10)"
   ]
  },
  {
   "cell_type": "code",
   "execution_count": 102,
   "metadata": {},
   "outputs": [],
   "source": [
    "l=[]\n",
    "for epoch in range(1000):\n",
    "    for d,i in loader:\n",
    "        l.append(i)    \n",
    "a=torch.stack(l,axis=-1)"
   ]
  },
  {
   "cell_type": "code",
   "execution_count": 103,
   "metadata": {},
   "outputs": [
    {
     "data": {
      "image/png": "[encoded data removed]",
      "text/plain": [
       "<Figure size 1080x360 with 10 Axes>"
      ]
     },
     "metadata": {
      "needs_background": "light"
     },
     "output_type": "display_data"
    }
   ],
   "source": [
    "'''雖然前幾次的會不太隨機，但是後面的都很隨機'''\n",
    "plt.figure(figsize=(15,5))\n",
    "for i,ii in enumerate(a.numpy()):\n",
    "    plt.subplot(2,5,i+1)\n",
    "    plt.hist(ii,alpha=0.5,label=[i])\n",
    "    plt.legend()"
   ]
  },
  {
   "cell_type": "code",
   "execution_count": 109,
   "metadata": {},
   "outputs": [
    {
     "name": "stdout",
     "output_type": "stream",
     "text": [
      "time elapsed: 0.5729472637176514  s\n"
     ]
    }
   ],
   "source": [
    "dataset=NumIterDataset(\"data.csv\",100)\n",
    "loader=data.DataLoader(dataset,batch_size=10)\n",
    "onset=time.time()\n",
    "for epoch in range(1000):\n",
    "    for d,i in loader:\n",
    "        pass\n",
    "print(\"time elapsed:\",time.time()-onset,\" s\")"
   ]
  },
  {
   "cell_type": "code",
   "execution_count": 110,
   "metadata": {},
   "outputs": [
    {
     "name": "stdout",
     "output_type": "stream",
     "text": [
      "time elapsed: 2.9174273014068604  s\n"
     ]
    }
   ],
   "source": [
    "dataset=NumIterDataset(\"data.csv\",100)\n",
    "shuffle_dataset=ShuffleDataset(dataset,buffer_size=50)\n",
    "loader=data.DataLoader(shuffle_dataset,batch_size=10)\n",
    "onset=time.time()\n",
    "for epoch in range(1000):\n",
    "    for d,i in loader:\n",
    "        pass\n",
    "print(\"time elapsed:\",time.time()-onset,\" s\")"
   ]
  },
  {
   "cell_type": "markdown",
   "metadata": {},
   "source": [
    "自製的shuffle還是慢了一點"
   ]
  },
  {
   "cell_type": "code",
   "execution_count": 149,
   "metadata": {},
   "outputs": [],
   "source": [
    "import numpy as np\n",
    "class ShuffleDataset(data.IterableDataset):\n",
    "    def __init__(self, fname,number_length, buffer_size):\n",
    "        super().__init__()\n",
    "        self.fname=fname\n",
    "        self.number_length=number_length\n",
    "        self.buffer_size = buffer_size\n",
    "    def prep(self,line):\n",
    "        d,l=line.split(\",\")\n",
    "        return float(d),int(l)\n",
    "    def __iter__(self):\n",
    "        # Initial iteration\n",
    "        file_itr = open(self.fname)\n",
    "        _=next(file_itr)\n",
    "        # Assign preprocess function\n",
    "        file_itr=map(self.prep,file_itr)\n",
    "        # Setup shuffle buffer\n",
    "        shufbuf=[next(file_itr) for i in range(self.buffer_size)]\n",
    "        order=np.random.randint(0,self.buffer_size,(self.number_length-self.buffer_size))\n",
    "        order_last=np.random.permutation(self.buffer_size)\n",
    "        try:\n",
    "            for idx,item in enumerate(file_itr):\n",
    "                if idx<self.number_length:\n",
    "                    if idx>=self.number_length-self.buffer_size:\n",
    "                        yield shufbuf[order_last[self.number_length-idx-1]]\n",
    "                    else:\n",
    "                        yield shufbuf[order[idx]]\n",
    "                        shufbuf[order[idx]]=item\n",
    "                    continue\n",
    "                break\n",
    "        except GeneratorExit:\n",
    "            pass\n"
   ]
  },
  {
   "cell_type": "code",
   "execution_count": 150,
   "metadata": {},
   "outputs": [],
   "source": [
    "shuffle_dataset=ShuffleDataset(\"data.csv\",10,buffer_size=3)\n",
    "loader=data.DataLoader(shuffle_dataset,batch_size=10)"
   ]
  },
  {
   "cell_type": "code",
   "execution_count": 151,
   "metadata": {},
   "outputs": [],
   "source": [
    "l=[]\n",
    "for epoch in range(1000):\n",
    "    for d,i in loader:\n",
    "        l.append(i)    \n",
    "a=torch.stack(l,axis=-1)"
   ]
  },
  {
   "cell_type": "code",
   "execution_count": 152,
   "metadata": {},
   "outputs": [
    {
     "data": {
      "image/png": "[encoded data removed]",
      "text/plain": [
       "<Figure size 1080x360 with 10 Axes>"
      ]
     },
     "metadata": {
      "needs_background": "light"
     },
     "output_type": "display_data"
    }
   ],
   "source": [
    "'''雖然前幾次的會不太隨機，但是後面的都很隨機'''\n",
    "plt.figure(figsize=(15,5))\n",
    "for i,ii in enumerate(a.numpy()):\n",
    "    plt.subplot(2,5,i+1)\n",
    "    plt.hist(ii,alpha=0.5,label=[i])\n",
    "    plt.legend()"
   ]
  },
  {
   "cell_type": "code",
   "execution_count": 153,
   "metadata": {},
   "outputs": [],
   "source": [
    "shuffle_dataset=ShuffleDataset(\"data.csv\",100,buffer_size=50)\n",
    "loader=data.DataLoader(shuffle_dataset,batch_size=10)"
   ]
  },
  {
   "cell_type": "code",
   "execution_count": 154,
   "metadata": {},
   "outputs": [
    {
     "name": "stdout",
     "output_type": "stream",
     "text": [
      "time elapsed: 0.8011782169342041  s\n"
     ]
    }
   ],
   "source": [
    "onset=time.time()\n",
    "for epoch in range(1000):\n",
    "    for d,i in loader:\n",
    "        pass\n",
    "print(\"time elapsed:\",time.time()-onset,\" s\")"
   ]
  },
  {
   "cell_type": "code",
   "execution_count": null,
   "metadata": {},
   "outputs": [],
   "source": []
  }
 ],
 "metadata": {
  "kernelspec": {
   "display_name": "Python 3 (ipykernel)",
   "language": "python",
   "name": "python3"
  },
  "language_info": {
   "codemirror_mode": {
    "name": "ipython",
    "version": 3
   },
   "file_extension": ".py",
   "mimetype": "text/x-python",
   "name": "python",
   "nbconvert_exporter": "python",
   "pygments_lexer": "ipython3",
   "version": "3.7.10"
  }
 },
 "nbformat": 4,
 "nbformat_minor": 4
}
