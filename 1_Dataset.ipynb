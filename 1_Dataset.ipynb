{
 "cells": [
  {
   "cell_type": "markdown",
   "metadata": {},
   "source": [
    "# utils.data.Dataset"
   ]
  },
  {
   "cell_type": "code",
   "execution_count": 5,
   "metadata": {
    "collapsed": true,
    "jupyter": {
     "outputs_hidden": true
    }
   },
   "outputs": [
    {
     "name": "stdout",
     "output_type": "stream",
     "text": [
      "Found existing installation: torch 1.9.0\n",
      "Uninstalling torch-1.9.0:\n",
      "  Successfully uninstalled torch-1.9.0\n",
      "Collecting torch==1.7.0\n",
      "  Using cached torch-1.7.0-cp37-cp37m-manylinux1_x86_64.whl (776.7 MB)\n",
      "Requirement already satisfied: typing-extensions in /opt/conda/lib/python3.7/site-packages (from torch==1.7.0) (3.7.4.3)\n",
      "Collecting dataclasses\n",
      "  Using cached dataclasses-0.6-py3-none-any.whl (14 kB)\n",
      "Requirement already satisfied: numpy in /opt/conda/lib/python3.7/site-packages (from torch==1.7.0) (1.16.6)\n",
      "Processing /home/jovyan/.cache/pip/wheels/56/b0/fe/4410d17b32f1f0c3cf54cdfb2bc04d7b4b8f4ae377e2229ba0/future-0.18.2-py3-none-any.whl\n",
      "Installing collected packages: dataclasses, future, torch\n",
      "Successfully installed dataclasses-0.6 future-0.18.2 torch-1.7.0\n"
     ]
    }
   ],
   "source": [
    "# !pip uninstall -y torch==1.9.0\n",
    "# !pip install torch==1.7.0"
   ]
  },
  {
   "cell_type": "code",
   "execution_count": 1,
   "metadata": {},
   "outputs": [
    {
     "name": "stdout",
     "output_type": "stream",
     "text": [
      "Cloning into 'torch-dataloader-tutorial'...\n",
      "remote: Enumerating objects: 32, done.\u001b[K\n",
      "remote: Counting objects: 100% (32/32), done.\u001b[K\n",
      "remote: Compressing objects: 100% (23/23), done.\u001b[K\n",
      "remote: Total 32 (delta 15), reused 23 (delta 8), pack-reused 0\u001b[K\n",
      "Unpacking objects: 100% (32/32), done.\n",
      "/home/jovyan/course/torch-dataloader-tutorial/torch-dataloader-tutorial\n"
     ]
    }
   ],
   "source": [
    "# Getting toy dataset\n",
    "!wget https://github.com/DeepStudio-TW/torch-dataloader-tutorial/raw/main/data.csv"
   ]
  },
  {
   "cell_type": "code",
   "execution_count": 1,
   "metadata": {},
   "outputs": [],
   "source": [
    "import torch\n",
    "import time\n",
    "import pandas as pd\n",
    "import torch.utils.data as tud\n",
    "import numpy as np"
   ]
  },
  {
   "cell_type": "markdown",
   "metadata": {},
   "source": [
    "## Declair Dataset Class"
   ]
  },
  {
   "cell_type": "code",
   "execution_count": 2,
   "metadata": {},
   "outputs": [],
   "source": [
    "class NumDataset(tud.Dataset):\n",
    "    '''Init: 使用變數宣告- data來源、總量、preprocess方法...等等'''\n",
    "    def __init__(self,fname,number_length):\n",
    "        super().__init__()\n",
    "        self.df=pd.read_csv(fname).head(number_length)\n",
    "        self.number_length=number_length\n",
    "        \n",
    "        self.data=self.df.data.values\n",
    "        self.label=self.df.label.values\n",
    "    '''一定要宣告長度，自訂義'''\n",
    "    def __len__(self):\n",
    "        return self.number_length\n",
    "    '''定義回傳一筆資料的方式，input會是某個index, 輸出data, 以及label'''\n",
    "    def __getitem__(self, idx):\n",
    "        data=self.data[idx]\n",
    "        label=self.label[idx]\n",
    "        return data,label"
   ]
  },
  {
   "cell_type": "code",
   "execution_count": 3,
   "metadata": {},
   "outputs": [],
   "source": [
    "'''之後就可以用這個dataset class 來query'''\n",
    "dataset=NumDataset(\"data.csv\",6)"
   ]
  },
  {
   "cell_type": "code",
   "execution_count": 4,
   "metadata": {},
   "outputs": [
    {
     "name": "stdout",
     "output_type": "stream",
     "text": [
      "0.3314613320867217<class 'numpy.float64'>|0 <class 'numpy.int64'>\n",
      "0.2032911268458797<class 'numpy.float64'>|1 <class 'numpy.int64'>\n",
      "-1.515299754708565<class 'numpy.float64'>|2 <class 'numpy.int64'>\n",
      "-0.9327277456926928<class 'numpy.float64'>|3 <class 'numpy.int64'>\n",
      "-0.7552733088729586<class 'numpy.float64'>|4 <class 'numpy.int64'>\n",
      "-0.12054968098895108<class 'numpy.float64'>|5 <class 'numpy.int64'>\n"
     ]
    }
   ],
   "source": [
    "'''可iterate，每次會依序call __getitem__'''\n",
    "for d,l in dataset:\n",
    "    print(f\"{d}{type(d)}|{l} {type(l)}\")"
   ]
  },
  {
   "cell_type": "markdown",
   "metadata": {},
   "source": [
    "## Split to Subsets"
   ]
  },
  {
   "cell_type": "code",
   "execution_count": 5,
   "metadata": {},
   "outputs": [],
   "source": [
    "'''用dataset.random_split 可以做Dataset class切分，加起來長度要跟原本一樣長'''\n",
    "L=len(dataset)\n",
    "seta,setb,setc=tud.dataset.random_split(dataset,[L//3,L//3,L-L//3*2])"
   ]
  },
  {
   "cell_type": "code",
   "execution_count": 6,
   "metadata": {},
   "outputs": [
    {
     "name": "stdout",
     "output_type": "stream",
     "text": [
      "-0.7552733088729586<class 'numpy.float64'>|4 <class 'numpy.int64'>\n",
      "-1.515299754708565<class 'numpy.float64'>|2 <class 'numpy.int64'>\n"
     ]
    }
   ],
   "source": [
    "for d,l in seta:\n",
    "    print(f\"{d}{type(d)}|{l} {type(l)}\")"
   ]
  },
  {
   "cell_type": "code",
   "execution_count": 7,
   "metadata": {},
   "outputs": [
    {
     "name": "stdout",
     "output_type": "stream",
     "text": [
      "-0.12054968098895108<class 'numpy.float64'>|5 <class 'numpy.int64'>\n",
      "-0.9327277456926928<class 'numpy.float64'>|3 <class 'numpy.int64'>\n"
     ]
    }
   ],
   "source": [
    "for d,l in setb:\n",
    "    print(f\"{d}{type(d)}|{l} {type(l)}\")"
   ]
  },
  {
   "cell_type": "code",
   "execution_count": 8,
   "metadata": {},
   "outputs": [
    {
     "name": "stdout",
     "output_type": "stream",
     "text": [
      "0.3314613320867217<class 'numpy.float64'>|0 <class 'numpy.int64'>\n",
      "0.2032911268458797<class 'numpy.float64'>|1 <class 'numpy.int64'>\n"
     ]
    }
   ],
   "source": [
    "for d,l in setc:\n",
    "    print(f\"{d}{type(d)}|{l} {type(l)}\")"
   ]
  },
  {
   "cell_type": "markdown",
   "metadata": {},
   "source": [
    "## Concat datasets"
   ]
  },
  {
   "cell_type": "code",
   "execution_count": 9,
   "metadata": {},
   "outputs": [],
   "source": [
    "'''把兩個dataset接在一起'''\n",
    "setd=tud.dataset.ConcatDataset((seta,setb))"
   ]
  },
  {
   "cell_type": "code",
   "execution_count": 10,
   "metadata": {},
   "outputs": [
    {
     "name": "stdout",
     "output_type": "stream",
     "text": [
      "-0.7552733088729586<class 'numpy.float64'>|4 <class 'numpy.int64'>\n",
      "-1.515299754708565<class 'numpy.float64'>|2 <class 'numpy.int64'>\n",
      "-0.12054968098895108<class 'numpy.float64'>|5 <class 'numpy.int64'>\n",
      "-0.9327277456926928<class 'numpy.float64'>|3 <class 'numpy.int64'>\n"
     ]
    }
   ],
   "source": [
    "for d,l in setd:\n",
    "    print(f\"{d}{type(d)}|{l} {type(l)}\")"
   ]
  },
  {
   "cell_type": "code",
   "execution_count": 11,
   "metadata": {},
   "outputs": [
    {
     "name": "stdout",
     "output_type": "stream",
     "text": [
      "-0.7552733088729586<class 'numpy.float64'>|4 <class 'numpy.int64'>\n",
      "-1.515299754708565<class 'numpy.float64'>|2 <class 'numpy.int64'>\n",
      "-0.12054968098895108<class 'numpy.float64'>|5 <class 'numpy.int64'>\n",
      "-0.9327277456926928<class 'numpy.float64'>|3 <class 'numpy.int64'>\n"
     ]
    }
   ],
   "source": [
    "'''也支援直接用加的作concate'''\n",
    "for d,l in seta+setb:\n",
    "    print(f\"{d}{type(d)}|{l} {type(l)}\")"
   ]
  },
  {
   "cell_type": "markdown",
   "metadata": {},
   "source": [
    "## Iterable Dataset"
   ]
  },
  {
   "cell_type": "code",
   "execution_count": 12,
   "metadata": {},
   "outputs": [],
   "source": [
    "class NumIterDataset(tud.IterableDataset):\n",
    "    '''Init: 使用變數宣告- data來源、總量、preprocess方法...等等'''\n",
    "    def __init__(self,fname,number_length):\n",
    "        super(NumIterDataset).__init__()\n",
    "        self.fname=fname\n",
    "        self.number_length=number_length\n",
    "    '''長度不宣告也沒差還是可以跑，有時候可以是無窮迴圈dataset'''\n",
    "#     def __len__(self):\n",
    "#         return self.number_length\n",
    "    '''定義iteration的方式，反正此dataset被call到之後開始跑iteration'''\n",
    "    def __iter__(self):\n",
    "        file_itr = open(self.fname)\n",
    "        _=next(file_itr)\n",
    "        for idx,line in enumerate(file_itr):\n",
    "            if idx<self.number_length:\n",
    "                d,l=line.split(\",\")\n",
    "                yield float(d),int(l)\n",
    "            else:\n",
    "                break\n",
    "iter_dataset=NumIterDataset(\"data.csv\",6)"
   ]
  },
  {
   "cell_type": "code",
   "execution_count": 13,
   "metadata": {},
   "outputs": [
    {
     "name": "stdout",
     "output_type": "stream",
     "text": [
      "0.3314613320867217<class 'float'>|0 <class 'int'>\n",
      "0.20329112684587966<class 'float'>|1 <class 'int'>\n",
      "-1.515299754708565<class 'float'>|2 <class 'int'>\n",
      "-0.9327277456926928<class 'float'>|3 <class 'int'>\n",
      "-0.7552733088729586<class 'float'>|4 <class 'int'>\n",
      "-0.12054968098895107<class 'float'>|5 <class 'int'>\n"
     ]
    }
   ],
   "source": [
    "for d,l in iter_dataset:\n",
    "    print(f\"{d}{type(d)}|{l} {type(l)}\")"
   ]
  },
  {
   "cell_type": "markdown",
   "metadata": {},
   "source": [
    "**無法做split,因為split後的dataset沒有長度**"
   ]
  },
  {
   "cell_type": "markdown",
   "metadata": {},
   "source": [
    "## ChainDataset"
   ]
  },
  {
   "cell_type": "code",
   "execution_count": 14,
   "metadata": {},
   "outputs": [],
   "source": [
    "'''把兩個dataset接在一起，兩個有可能規則不一樣'''\n",
    "seta=NumIterDataset(\"data.csv\",3)\n",
    "setb=NumIterDataset(\"data.csv\",3)\n",
    "iter_dataset=tud.dataset.ChainDataset((seta,setb))"
   ]
  },
  {
   "cell_type": "code",
   "execution_count": 15,
   "metadata": {},
   "outputs": [
    {
     "name": "stdout",
     "output_type": "stream",
     "text": [
      "0.3314613320867217<class 'float'>|0 <class 'int'>\n",
      "0.20329112684587966<class 'float'>|1 <class 'int'>\n",
      "-1.515299754708565<class 'float'>|2 <class 'int'>\n",
      "0.3314613320867217<class 'float'>|0 <class 'int'>\n",
      "0.20329112684587966<class 'float'>|1 <class 'int'>\n",
      "-1.515299754708565<class 'float'>|2 <class 'int'>\n"
     ]
    }
   ],
   "source": [
    "for d,l in iter_dataset:\n",
    "    print(f\"{d}{type(d)}|{l} {type(l)}\")"
   ]
  },
  {
   "cell_type": "markdown",
   "metadata": {},
   "source": [
    "## Tensor Dataset"
   ]
  },
  {
   "cell_type": "code",
   "execution_count": 16,
   "metadata": {},
   "outputs": [],
   "source": [
    "'''直接把準備好的tensor塞進dataset'''\n",
    "t_dataset=tud.dataset.TensorDataset(torch.rand(5),torch.arange(0,5))"
   ]
  },
  {
   "cell_type": "code",
   "execution_count": 17,
   "metadata": {},
   "outputs": [
    {
     "name": "stdout",
     "output_type": "stream",
     "text": [
      "0.6606135964393616<class 'torch.Tensor'>|0 <class 'torch.Tensor'>\n",
      "0.5310543179512024<class 'torch.Tensor'>|1 <class 'torch.Tensor'>\n",
      "0.0039855241775512695<class 'torch.Tensor'>|2 <class 'torch.Tensor'>\n",
      "0.17498433589935303<class 'torch.Tensor'>|3 <class 'torch.Tensor'>\n",
      "0.2061988115310669<class 'torch.Tensor'>|4 <class 'torch.Tensor'>\n"
     ]
    }
   ],
   "source": [
    "'''load出來是tensor'''\n",
    "for d,l in t_dataset:\n",
    "    print(f\"{d}{type(d)}|{l} {type(l)}\")"
   ]
  }
 ],
 "metadata": {
  "kernelspec": {
   "display_name": "Python 3 (ipykernel)",
   "language": "python",
   "name": "python3"
  },
  "language_info": {
   "codemirror_mode": {
    "name": "ipython",
    "version": 3
   },
   "file_extension": ".py",
   "mimetype": "text/x-python",
   "name": "python",
   "nbconvert_exporter": "python",
   "pygments_lexer": "ipython3",
   "version": "3.8.5"
  }
 },
 "nbformat": 4,
 "nbformat_minor": 4
}
